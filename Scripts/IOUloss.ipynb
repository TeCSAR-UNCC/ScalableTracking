{
 "cells": [
  {
   "cell_type": "code",
   "execution_count": 1,
   "metadata": {},
   "outputs": [],
   "source": [
    "import tensorflow as tf\n",
    "import numpy as np"
   ]
  },
  {
   "cell_type": "code",
   "execution_count": null,
   "metadata": {},
   "outputs": [],
   "source": [
    "_EPSILON = 10e-8\n",
    "\n",
    "\n",
    "def IOULoss(input, label):\n",
    "    \"\"\"\n",
    "    :param input: the estimate position\n",
    "    :param label: the ground truth position\n",
    "    :return: the IoU loss\n",
    "    \"\"\"\n",
    "    # the estimate position\n",
    "    xt, xb, xl, xr = tf.split(input, num_or_size_splits=4, axis=3)\n",
    "\n",
    "    # the ground truth position\n",
    "    gt, gb, gl, gr = tf.split(label, num_or_size_splits=4, axis=3)\n",
    "\n",
    "    # compute the bounding box size\n",
    "    X = (xt + xb) * (xl + xr)\n",
    "    G = (gt + gb) * (gl + gr)\n",
    "\n",
    "    # compute the IOU\n",
    "    Ih = tf.minimum(xt, gt) + tf.minimum(xb, gb)\n",
    "    Iw = tf.minimum(xl, gl) + tf.minimum(xr, gr)\n",
    "\n",
    "    I = tf.multiply(Ih, Iw, name=\"intersection\")\n",
    "    U = X + G - I + _EPSILON\n",
    "\n",
    "    IoU = tf.divide(I, U, name='IoU')\n",
    "\n",
    "    L = tf.where(tf.less_equal(gt, tf.constant(0.01, dtype=tf.float32)),\n",
    "                 tf.zeros_like(xt, tf.float32),\n",
    "                 -tf.log(IoU + _EPSILON))\n",
    "\n",
    "    return tf.reduce_mean(L)"
   ]
  },
  {
   "cell_type": "code",
   "execution_count": 3,
   "metadata": {},
   "outputs": [
    {
     "data": {
      "text/plain": [
       "(4, 7, 2, 4)"
      ]
     },
     "execution_count": 3,
     "metadata": {},
     "output_type": "execute_result"
    }
   ],
   "source": [
    "test=np.ones(shape=(4,7,2,4))\n",
    "test.shape"
   ]
  },
  {
   "cell_type": "code",
   "execution_count": 8,
   "metadata": {},
   "outputs": [],
   "source": [
    "o1,o2,o3,o4 = tf.split(test, num_or_size_splits=4, axis=3)"
   ]
  },
  {
   "cell_type": "code",
   "execution_count": 12,
   "metadata": {},
   "outputs": [
    {
     "data": {
      "text/plain": [
       "<tf.Tensor 'split_1:0' shape=(4, 7, 2, 1) dtype=float64>"
      ]
     },
     "execution_count": 12,
     "metadata": {},
     "output_type": "execute_result"
    }
   ],
   "source": [
    "o1"
   ]
  },
  {
   "cell_type": "code",
   "execution_count": 22,
   "metadata": {},
   "outputs": [
    {
     "data": {
      "text/plain": [
       "array([9, 7])"
      ]
     },
     "execution_count": 22,
     "metadata": {},
     "output_type": "execute_result"
    }
   ],
   "source": [
    "arrr = np.array([6,3,9,7])\n",
    "\n",
    "arrr[2:]"
   ]
  },
  {
   "cell_type": "code",
   "execution_count": 17,
   "metadata": {},
   "outputs": [
    {
     "data": {
      "text/plain": [
       "0.33585911504020344"
      ]
     },
     "execution_count": 17,
     "metadata": {},
     "output_type": "execute_result"
    }
   ],
   "source": [
    "arrr"
   ]
  },
  {
   "cell_type": "code",
   "execution_count": null,
   "metadata": {},
   "outputs": [],
   "source": []
  }
 ],
 "metadata": {
  "kernelspec": {
   "display_name": "Python 2",
   "language": "python",
   "name": "python2"
  },
  "language_info": {
   "codemirror_mode": {
    "name": "ipython",
    "version": 2
   },
   "file_extension": ".py",
   "mimetype": "text/x-python",
   "name": "python",
   "nbconvert_exporter": "python",
   "pygments_lexer": "ipython2",
   "version": "2.7.12"
  }
 },
 "nbformat": 4,
 "nbformat_minor": 2
}
