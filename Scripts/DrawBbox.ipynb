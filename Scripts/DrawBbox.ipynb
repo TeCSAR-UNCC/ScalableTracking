{
 "cells": [
  {
   "cell_type": "code",
   "execution_count": 2,
   "metadata": {},
   "outputs": [],
   "source": [
    "import cv2\n",
    "import os\n",
    "import numpy as np"
   ]
  },
  {
   "cell_type": "code",
   "execution_count": 3,
   "metadata": {},
   "outputs": [
    {
     "name": "stdout",
     "output_type": "stream",
     "text": [
      "/run/user/1002/gvfs/sftp:host=10.16.26.12,user=pkulkar7/home/pkulkar7/object_tracking\r\n"
     ]
    }
   ],
   "source": [
    "!pwd"
   ]
  },
  {
   "cell_type": "code",
   "execution_count": 116,
   "metadata": {},
   "outputs": [
    {
     "name": "stdout",
     "output_type": "stream",
     "text": [
      "('Folder: ', 'video4', ' done')\n",
      "('Folder: ', 'video5', ' done')\n",
      "('Folder: ', 'video15', ' done')\n"
     ]
    }
   ],
   "source": [
    "dataset=\"/run/user/1002/gvfs/sftp:host=10.16.26.12,user=pkulkar7/home/pkulkar7/object_tracking/own_images/testing\"\n",
    "model = \"/run/user/1002/gvfs/sftp:host=10.16.26.12,user=pkulkar7/home/pkulkar7/object_tracking/model_mixed_dataset_finetune\"\n",
    "#folderlist=sorted(os.listdir(dataset))\n",
    "\n",
    "folderlist=['videomix']\n",
    "#foldername='Basketball_ce3'\n",
    "\n",
    "for foldername in folderlist:\n",
    "    if foldername=='Subway':\n",
    "        continue\n",
    "    imgpath=dataset+'/'+foldername+'/img/'\n",
    "    #print '1'\n",
    "    gtpath =dataset+'/'+foldername+'/gt.npy'\n",
    "    gt = np.load(gtpath)\n",
    "    gt= np.asarray(gt,dtype='int')\n",
    "    #print '2'\n",
    "    predictionpath = model+'/'+foldername+'prediction.npy'\n",
    "    prediction = np.load(predictionpath)\n",
    "    prediction = np.asarray(prediction,dtype='int')\n",
    "    \n",
    "    predictionpath1 = model+'/'+foldername+'prediction1.npy'\n",
    "    prediction1 = np.load(predictionpath1)\n",
    "    prediction1 = np.asarray(prediction1,dtype='int')    \n",
    "    \n",
    "    i=6\n",
    "    for item in sorted(os.listdir(imgpath)):\n",
    "        img1 = cv2.imread(imgpath+'/'+item)\n",
    "        img =img1.copy()\n",
    "        #GT box\n",
    "        cv2.rectangle(img,(gt[i][0][0],gt[i][0][1]),(gt[i][0][2],gt[i][0][3]),(0,255,0),2)\n",
    "        cv2.rectangle(img,(gt[i][1][0],gt[i][1][1]),(gt[i][1][2],gt[i][1][3]),(0,255,0),2)        \n",
    "\n",
    "        #Prediction box\n",
    "        cv2.rectangle(img,(prediction[i-6][0][0],prediction[i-6][0]),(prediction[i-6][2],prediction[i-6][3]),(255,0,0),2)\n",
    "        cv2.rectangle(img,(prediction[i-6][0],prediction[i-6][1]),(prediction[i-6][2],prediction[i-6][3]),(255,0,0),2)\n",
    "        \n",
    "        cv2.imwrite(dataset+'/'+foldername+'/output_lstm/'+item,img)\n",
    "        i=i+1\n",
    "        if i==gt.shape[0]:\n",
    "            break\n",
    "    print ('Folder: ',foldername, ' done')"
   ]
  },
  {
   "cell_type": "code",
   "execution_count": 36,
   "metadata": {},
   "outputs": [
    {
     "name": "stdout",
     "output_type": "stream",
     "text": [
      "/run/user/1002/gvfs/sftp:host=10.16.26.12,user=pkulkar7/home/pkulkar7/object_tracking/tc128/0_Testing/Basketball_ce1/output_lstm\n"
     ]
    }
   ],
   "source": [
    "tp =dataset+'/'+foldername+'/output_lstm'\n",
    "print tp"
   ]
  },
  {
   "cell_type": "code",
   "execution_count": 49,
   "metadata": {},
   "outputs": [
    {
     "data": {
      "text/plain": [
       "(435, 4)"
      ]
     },
     "execution_count": 49,
     "metadata": {},
     "output_type": "execute_result"
    }
   ],
   "source": [
    "predictionpath = model+'/'+foldername+'prediction.npy'\n",
    "prediction = np.load(predictionpath)\n",
    "prediction.shape"
   ]
  },
  {
   "cell_type": "code",
   "execution_count": null,
   "metadata": {},
   "outputs": [],
   "source": []
  },
  {
   "cell_type": "code",
   "execution_count": 4,
   "metadata": {},
   "outputs": [
    {
     "name": "stdout",
     "output_type": "stream",
     "text": [
      "('Folder: ', 'videomix', ' done')\n"
     ]
    }
   ],
   "source": [
    "'''\n",
    "Function to draw bboxes for multiple objects\n",
    "'''\n",
    "\n",
    "\n",
    "dataset=\"/run/user/1002/gvfs/sftp:host=10.16.26.12,user=pkulkar7/home/pkulkar7/object_tracking/own_images/testing\"\n",
    "model = \"/run/user/1002/gvfs/sftp:host=10.16.26.12,user=pkulkar7/home/pkulkar7/object_tracking/../model_mixed_dataset_finetune_v0\"\n",
    "#folderlist=sorted(os.listdir(dataset))\n",
    "\n",
    "folderlist=['videomix']\n",
    "#foldername='Basketball_ce3'\n",
    "\n",
    "for foldername in folderlist:\n",
    "    if foldername=='Subway':\n",
    "        continue\n",
    "    imgpath=dataset+'/'+foldername+'/img/'\n",
    "    #print '1'\n",
    "    gtpath =dataset+'/'+foldername+'/gt.npy'\n",
    "    gt = np.load(gtpath)\n",
    "    gt= np.asarray(gt,dtype='int')\n",
    "    #print '2'\n",
    "    predictionpath1 = model+'/'+foldername+'prediction1.npy'\n",
    "    prediction = np.load(predictionpath1)\n",
    "    prediction1 = np.asarray(prediction,dtype='int')\n",
    "    \n",
    "    predictionpath2 = model+'/'+foldername+'prediction2.npy'\n",
    "    prediction = np.load(predictionpath2)\n",
    "    prediction2 = np.asarray(prediction,dtype='int')\n",
    "    dic={}\n",
    "    i=0\n",
    "    for item in sorted(os.listdir(imgpath)): #read frames\n",
    "        cls=int(''.join(filter(str.isdigit, item)))\n",
    "        dic[cls]=item\n",
    "    for key in dic:\n",
    "        if i<6:\n",
    "            i=i+1\n",
    "            continue\n",
    "        img1 = cv2.imread(imgpath+'/'+dic[key])\n",
    "        img =img1.copy()\n",
    "        #GT box\n",
    "        cv2.rectangle(img,(gt[i][0][0],gt[i][0][1]),(gt[i][0][2],gt[i][0][3]),(0,255,0),2)\n",
    "        cv2.rectangle(img,(gt[i][1][0],gt[i][1][1]),(gt[i][1][2],gt[i][1][3]),(0,255,0),2)\n",
    "        \n",
    "        \n",
    "        #Prediction box\n",
    "        cv2.rectangle(img,(prediction1[i][0],prediction1[i][1]),(prediction1[i][2],prediction1[i][3]),(255,0,0),2)\n",
    "        cv2.rectangle(img,(prediction2[i][0],prediction2[i][1]),(prediction2[i][2],prediction2[i][3]),(255,0,0),2)\n",
    "        \n",
    "        cv2.imwrite(dataset+'/'+foldername+'/output_lstm/'+dic[key],img)\n",
    "        i=i+1\n",
    "        if i==gt.shape[0]-6:\n",
    "            break\n",
    "    print ('Folder: ',foldername, ' done')"
   ]
  },
  {
   "cell_type": "code",
   "execution_count": 70,
   "metadata": {},
   "outputs": [],
   "source": [
    "for foldername in folderlist1:\n",
    "    if not os.path.exists(dataset+'/'+foldername+'/output_lstm'):\n",
    "        os.mkdir(dataset+'/'+foldername+'/output_lstm')"
   ]
  },
  {
   "cell_type": "code",
   "execution_count": 109,
   "metadata": {},
   "outputs": [
    {
     "data": {
      "text/plain": [
       "781"
      ]
     },
     "execution_count": 109,
     "metadata": {},
     "output_type": "execute_result"
    }
   ],
   "source": [
    "gt.shape[0]"
   ]
  },
  {
   "cell_type": "code",
   "execution_count": 4,
   "metadata": {},
   "outputs": [],
   "source": [
    "arr1 = np.load('../model_tc128_v0/Bicycleprediction.npy')\n",
    "arr2 = np.load('model_tc128/Bicycleprediction.npy')"
   ]
  },
  {
   "cell_type": "code",
   "execution_count": 10,
   "metadata": {},
   "outputs": [
    {
     "name": "stdout",
     "output_type": "stream",
     "text": [
      "[ True  True  True  True]\n"
     ]
    }
   ],
   "source": [
    "print(arr1[77]==arr2[77])"
   ]
  },
  {
   "cell_type": "code",
   "execution_count": 60,
   "metadata": {},
   "outputs": [
    {
     "data": {
      "text/plain": [
       "(922, 1, 4)"
      ]
     },
     "execution_count": 60,
     "metadata": {},
     "output_type": "execute_result"
    }
   ],
   "source": [
    "arr3 = np.load('own_images/training/video14/gt.npy')\n",
    "# for i in range(arr3.shape[0]):\n",
    "#     if(arr3[i][0].any()==320):\n",
    "#         print 'a'\n",
    "arr3.shape"
   ]
  },
  {
   "cell_type": "code",
   "execution_count": 24,
   "metadata": {},
   "outputs": [
    {
     "name": "stdout",
     "output_type": "stream",
     "text": [
      "10\n",
      "11\n",
      "12\n",
      "13\n",
      "14\n",
      "15\n",
      "16\n",
      "17\n",
      "18\n",
      "19\n"
     ]
    }
   ],
   "source": [
    "i=10\n",
    "for j in range(10):\n",
    "    print i\n",
    "    i=i+1"
   ]
  },
  {
   "cell_type": "code",
   "execution_count": 66,
   "metadata": {},
   "outputs": [
    {
     "name": "stdout",
     "output_type": "stream",
     "text": [
      "2\n",
      "3\n",
      "4\n"
     ]
    }
   ],
   "source": [
    "i=2\n",
    "for obj in range(i,5):\n",
    "    print obj"
   ]
  },
  {
   "cell_type": "code",
   "execution_count": 88,
   "metadata": {},
   "outputs": [],
   "source": [
    "file_list=sorted(os.listdir('own_images/testing/videomix/img/'))\n",
    "dic ={}\n",
    "for item in file_list: #read frames\n",
    "    cls=int(''.join(filter(str.isdigit, item)))\n",
    "    dic[cls]=item"
   ]
  },
  {
   "cell_type": "code",
   "execution_count": 121,
   "metadata": {},
   "outputs": [],
   "source": [
    "# for key in dic:\n",
    "#     print dic[key]"
   ]
  },
  {
   "cell_type": "code",
   "execution_count": 127,
   "metadata": {},
   "outputs": [
    {
     "data": {
      "text/plain": [
       "(6, 2, 4)"
      ]
     },
     "execution_count": 127,
     "metadata": {},
     "output_type": "execute_result"
    }
   ],
   "source": [
    "arr = np.load('own_images/testing/videomix/bbox_video.npy')\n",
    "arr[:6][:].shape"
   ]
  },
  {
   "cell_type": "code",
   "execution_count": 124,
   "metadata": {},
   "outputs": [
    {
     "data": {
      "text/plain": [
       "(769, 4)"
      ]
     },
     "execution_count": 124,
     "metadata": {},
     "output_type": "execute_result"
    }
   ],
   "source": [
    "arr1 = np.load('model_mixed_dataset_finetune/videomixprediction_2.npy')\n",
    "arr1.shape"
   ]
  },
  {
   "cell_type": "code",
   "execution_count": null,
   "metadata": {},
   "outputs": [],
   "source": []
  }
 ],
 "metadata": {
  "kernelspec": {
   "display_name": "Python 2",
   "language": "python",
   "name": "python2"
  },
  "language_info": {
   "codemirror_mode": {
    "name": "ipython",
    "version": 2
   },
   "file_extension": ".py",
   "mimetype": "text/x-python",
   "name": "python",
   "nbconvert_exporter": "python",
   "pygments_lexer": "ipython2",
   "version": "2.7.12"
  }
 },
 "nbformat": 4,
 "nbformat_minor": 2
}
