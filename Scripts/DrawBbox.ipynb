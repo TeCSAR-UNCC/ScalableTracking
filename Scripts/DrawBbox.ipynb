{
 "cells": [
  {
   "cell_type": "code",
   "execution_count": 42,
   "metadata": {},
   "outputs": [],
   "source": [
    "import cv2\n",
    "import os\n",
    "import numpy as np"
   ]
  },
  {
   "cell_type": "code",
   "execution_count": 3,
   "metadata": {},
   "outputs": [
    {
     "name": "stdout",
     "output_type": "stream",
     "text": [
      "/run/user/1002/gvfs/sftp:host=10.16.26.12,user=pkulkar7/home/pkulkar7/object_tracking\r\n"
     ]
    }
   ],
   "source": [
    "!pwd"
   ]
  },
  {
   "cell_type": "code",
   "execution_count": 116,
   "metadata": {},
   "outputs": [
    {
     "name": "stdout",
     "output_type": "stream",
     "text": [
      "('Folder: ', 'video4', ' done')\n",
      "('Folder: ', 'video5', ' done')\n",
      "('Folder: ', 'video15', ' done')\n"
     ]
    }
   ],
   "source": [
    "dataset=\"/run/user/1002/gvfs/sftp:host=10.16.26.12,user=pkulkar7/home/pkulkar7/object_tracking/own_images/testing\"\n",
    "model = \"/run/user/1002/gvfs/sftp:host=10.16.26.12,user=pkulkar7/home/pkulkar7/object_tracking/model_mixed_dataset_finetune\"\n",
    "#folderlist=sorted(os.listdir(dataset))\n",
    "\n",
    "folderlist=['videomix']\n",
    "#foldername='Basketball_ce3'\n",
    "\n",
    "for foldername in folderlist:\n",
    "    if foldername=='Subway':\n",
    "        continue\n",
    "    imgpath=dataset+'/'+foldername+'/img/'\n",
    "    #print '1'\n",
    "    gtpath =dataset+'/'+foldername+'/gt.npy'\n",
    "    gt = np.load(gtpath)\n",
    "    gt= np.asarray(gt,dtype='int')\n",
    "    #print '2'\n",
    "    predictionpath = model+'/'+foldername+'prediction.npy'\n",
    "    prediction = np.load(predictionpath)\n",
    "    prediction = np.asarray(prediction,dtype='int')\n",
    "    \n",
    "    predictionpath1 = model+'/'+foldername+'prediction1.npy'\n",
    "    prediction1 = np.load(predictionpath1)\n",
    "    prediction1 = np.asarray(prediction1,dtype='int')    \n",
    "    \n",
    "    i=6\n",
    "    for item in sorted(os.listdir(imgpath)):\n",
    "        img1 = cv2.imread(imgpath+'/'+item)\n",
    "        img =img1.copy()\n",
    "        #GT box\n",
    "        cv2.rectangle(img,(gt[i][0][0],gt[i][0][1]),(gt[i][0][2],gt[i][0][3]),(0,255,0),2)\n",
    "        cv2.rectangle(img,(gt[i][1][0],gt[i][1][1]),(gt[i][1][2],gt[i][1][3]),(0,255,0),2)        \n",
    "\n",
    "        #Prediction box\n",
    "        cv2.rectangle(img,(prediction[i-6][0][0],prediction[i-6][0]),(prediction[i-6][2],prediction[i-6][3]),(255,0,0),2)\n",
    "        cv2.rectangle(img,(prediction[i-6][0],prediction[i-6][1]),(prediction[i-6][2],prediction[i-6][3]),(255,0,0),2)\n",
    "        \n",
    "        cv2.imwrite(dataset+'/'+foldername+'/output_lstm/'+item,img)\n",
    "        i=i+1\n",
    "        if i==gt.shape[0]:\n",
    "            break\n",
    "    print ('Folder: ',foldername, ' done')"
   ]
  },
  {
   "cell_type": "code",
   "execution_count": 36,
   "metadata": {},
   "outputs": [
    {
     "name": "stdout",
     "output_type": "stream",
     "text": [
      "/run/user/1002/gvfs/sftp:host=10.16.26.12,user=pkulkar7/home/pkulkar7/object_tracking/tc128/0_Testing/Basketball_ce1/output_lstm\n"
     ]
    }
   ],
   "source": [
    "tp =dataset+'/'+foldername+'/output_lstm'\n",
    "print tp"
   ]
  },
  {
   "cell_type": "code",
   "execution_count": 49,
   "metadata": {},
   "outputs": [
    {
     "data": {
      "text/plain": [
       "(435, 4)"
      ]
     },
     "execution_count": 49,
     "metadata": {},
     "output_type": "execute_result"
    }
   ],
   "source": [
    "predictionpath = model+'/'+foldername+'prediction.npy'\n",
    "prediction = np.load(predictionpath)\n",
    "prediction.shape"
   ]
  },
  {
   "cell_type": "code",
   "execution_count": null,
   "metadata": {},
   "outputs": [],
   "source": []
  },
  {
   "cell_type": "code",
   "execution_count": 4,
   "metadata": {},
   "outputs": [
    {
     "name": "stdout",
     "output_type": "stream",
     "text": [
      "('Folder: ', 'videomix', ' done')\n"
     ]
    }
   ],
   "source": [
    "'''\n",
    "Function to draw bboxes for multiple objects\n",
    "'''\n",
    "\n",
    "\n",
    "dataset=\"/run/user/1002/gvfs/sftp:host=10.16.26.12,user=pkulkar7/home/pkulkar7/object_tracking/own_images/testing\"\n",
    "model = \"/run/user/1002/gvfs/sftp:host=10.16.26.12,user=pkulkar7/home/pkulkar7/object_tracking/../model_mixed_dataset_finetune_v0\"\n",
    "#folderlist=sorted(os.listdir(dataset))\n",
    "\n",
    "folderlist=['videomix']\n",
    "#foldername='Basketball_ce3'\n",
    "\n",
    "for foldername in folderlist:\n",
    "    if foldername=='Subway':\n",
    "        continue\n",
    "    imgpath=dataset+'/'+foldername+'/img/'\n",
    "    #print '1'\n",
    "    gtpath =dataset+'/'+foldername+'/gt.npy'\n",
    "    gt = np.load(gtpath)\n",
    "    gt= np.asarray(gt,dtype='int')\n",
    "    #print '2'\n",
    "    predictionpath1 = model+'/'+foldername+'prediction1.npy'\n",
    "    prediction = np.load(predictionpath1)\n",
    "    prediction1 = np.asarray(prediction,dtype='int')\n",
    "    \n",
    "    predictionpath2 = model+'/'+foldername+'prediction2.npy'\n",
    "    prediction = np.load(predictionpath2)\n",
    "    prediction2 = np.asarray(prediction,dtype='int')\n",
    "    dic={}\n",
    "    i=0\n",
    "    for item in sorted(os.listdir(imgpath)): #read frames\n",
    "        cls=int(''.join(filter(str.isdigit, item)))\n",
    "        dic[cls]=item\n",
    "    for key in dic:\n",
    "        if i<6:\n",
    "            i=i+1\n",
    "            continue\n",
    "        img1 = cv2.imread(imgpath+'/'+dic[key])\n",
    "        img =img1.copy()\n",
    "        #GT box\n",
    "        cv2.rectangle(img,(gt[i][0][0],gt[i][0][1]),(gt[i][0][2],gt[i][0][3]),(0,255,0),2)\n",
    "        cv2.rectangle(img,(gt[i][1][0],gt[i][1][1]),(gt[i][1][2],gt[i][1][3]),(0,255,0),2)\n",
    "        \n",
    "        \n",
    "        #Prediction box\n",
    "        cv2.rectangle(img,(prediction1[i][0],prediction1[i][1]),(prediction1[i][2],prediction1[i][3]),(255,0,0),2)\n",
    "        cv2.rectangle(img,(prediction2[i][0],prediction2[i][1]),(prediction2[i][2],prediction2[i][3]),(255,0,0),2)\n",
    "        \n",
    "        cv2.imwrite(dataset+'/'+foldername+'/output_lstm/'+dic[key],img)\n",
    "        i=i+1\n",
    "        if i==gt.shape[0]-6:\n",
    "            break\n",
    "    print ('Folder: ',foldername, ' done')"
   ]
  },
  {
   "cell_type": "code",
   "execution_count": 70,
   "metadata": {},
   "outputs": [],
   "source": [
    "for foldername in folderlist1:\n",
    "    if not os.path.exists(dataset+'/'+foldername+'/output_lstm'):\n",
    "        os.mkdir(dataset+'/'+foldername+'/output_lstm')"
   ]
  },
  {
   "cell_type": "code",
   "execution_count": 109,
   "metadata": {},
   "outputs": [
    {
     "data": {
      "text/plain": [
       "781"
      ]
     },
     "execution_count": 109,
     "metadata": {},
     "output_type": "execute_result"
    }
   ],
   "source": [
    "gt.shape[0]"
   ]
  },
  {
   "cell_type": "code",
   "execution_count": 4,
   "metadata": {},
   "outputs": [],
   "source": [
    "arr1 = np.load('../model_tc128_v0/Bicycleprediction.npy')\n",
    "arr2 = np.load('model_tc128/Bicycleprediction.npy')"
   ]
  },
  {
   "cell_type": "code",
   "execution_count": 10,
   "metadata": {},
   "outputs": [
    {
     "name": "stdout",
     "output_type": "stream",
     "text": [
      "[ True  True  True  True]\n"
     ]
    }
   ],
   "source": [
    "print(arr1[77]==arr2[77])"
   ]
  },
  {
   "cell_type": "code",
   "execution_count": 60,
   "metadata": {},
   "outputs": [
    {
     "data": {
      "text/plain": [
       "(922, 1, 4)"
      ]
     },
     "execution_count": 60,
     "metadata": {},
     "output_type": "execute_result"
    }
   ],
   "source": [
    "arr3 = np.load('own_images/training/video14/gt.npy')\n",
    "# for i in range(arr3.shape[0]):\n",
    "#     if(arr3[i][0].any()==320):\n",
    "#         print 'a'\n",
    "arr3.shape"
   ]
  },
  {
   "cell_type": "code",
   "execution_count": 24,
   "metadata": {},
   "outputs": [
    {
     "name": "stdout",
     "output_type": "stream",
     "text": [
      "10\n",
      "11\n",
      "12\n",
      "13\n",
      "14\n",
      "15\n",
      "16\n",
      "17\n",
      "18\n",
      "19\n"
     ]
    }
   ],
   "source": [
    "i=10\n",
    "for j in range(10):\n",
    "    print i\n",
    "    i=i+1"
   ]
  },
  {
   "cell_type": "code",
   "execution_count": 66,
   "metadata": {},
   "outputs": [
    {
     "name": "stdout",
     "output_type": "stream",
     "text": [
      "2\n",
      "3\n",
      "4\n"
     ]
    }
   ],
   "source": [
    "i=2\n",
    "for obj in range(i,5):\n",
    "    print obj"
   ]
  },
  {
   "cell_type": "code",
   "execution_count": 88,
   "metadata": {},
   "outputs": [],
   "source": [
    "file_list=sorted(os.listdir('own_images/testing/videomix/img/'))\n",
    "dic ={}\n",
    "for item in file_list: #read frames\n",
    "    cls=int(''.join(filter(str.isdigit, item)))\n",
    "    dic[cls]=item"
   ]
  },
  {
   "cell_type": "code",
   "execution_count": 121,
   "metadata": {},
   "outputs": [],
   "source": [
    "# for key in dic:\n",
    "#     print dic[key]"
   ]
  },
  {
   "cell_type": "code",
   "execution_count": 127,
   "metadata": {},
   "outputs": [
    {
     "data": {
      "text/plain": [
       "(6, 2, 4)"
      ]
     },
     "execution_count": 127,
     "metadata": {},
     "output_type": "execute_result"
    }
   ],
   "source": [
    "arr = np.load('own_images/testing/videomix/bbox_video.npy')\n",
    "arr[:6][:].shape"
   ]
  },
  {
   "cell_type": "code",
   "execution_count": 157,
   "metadata": {},
   "outputs": [],
   "source": [
    "gt = np.load('torch_codes/test_results/cam1obj150_gt.npy')\n",
    "pred = np.load('torch_codes/test_results/cam1obj150_pred.npy')"
   ]
  },
  {
   "cell_type": "code",
   "execution_count": 158,
   "metadata": {},
   "outputs": [],
   "source": [
    "gt = np.asarray(gt,dtype='uint')\n",
    "pred = np.asarray(pred,dtype='uint')"
   ]
  },
  {
   "cell_type": "code",
   "execution_count": 159,
   "metadata": {},
   "outputs": [
    {
     "name": "stdout",
     "output_type": "stream",
     "text": [
      "Populating the interactive namespace from numpy and matplotlib\n"
     ]
    }
   ],
   "source": [
    "%pylab inline"
   ]
  },
  {
   "cell_type": "code",
   "execution_count": 148,
   "metadata": {},
   "outputs": [
    {
     "data": {
      "text/plain": [
       "(array([[ 50, 425, 107, 324],\n",
       "        [ 53, 425, 107, 324],\n",
       "        [ 59, 425, 107, 324],\n",
       "        [ 63, 426, 109, 323],\n",
       "        [ 67, 426, 109, 323],\n",
       "        [ 71, 426, 109, 323],\n",
       "        [ 75, 426, 110, 323],\n",
       "        [ 78, 426, 110, 323],\n",
       "        [ 83, 426, 111, 323],\n",
       "        [ 86, 426, 111, 322],\n",
       "        [ 90, 426, 111, 322],\n",
       "        [ 95, 426, 112, 322],\n",
       "        [ 99, 426, 112, 322],\n",
       "        [104, 426, 112, 322],\n",
       "        [107, 428, 112, 322],\n",
       "        [112, 427, 112, 321],\n",
       "        [116, 427, 112, 321],\n",
       "        [120, 427, 113, 321],\n",
       "        [123, 427, 113, 321],\n",
       "        [127, 427, 113, 321],\n",
       "        [132, 427, 114, 321],\n",
       "        [136, 427, 114, 320],\n",
       "        [140, 429, 115, 320],\n",
       "        [145, 429, 115, 320],\n",
       "        [149, 429, 115, 320],\n",
       "        [153, 429, 117, 320],\n",
       "        [157, 429, 117, 320],\n",
       "        [160, 429, 117, 320],\n",
       "        [165, 428, 118, 318],\n",
       "        [169, 428, 118, 318],\n",
       "        [174, 430, 118, 318],\n",
       "        [177, 430, 119, 318],\n",
       "        [182, 430, 119, 318],\n",
       "        [185, 430, 120, 318],\n",
       "        [189, 430, 120, 317],\n",
       "        [193, 430, 120, 317],\n",
       "        [198, 430, 120, 317],\n",
       "        [202, 430, 120, 317],\n",
       "        [207, 431, 120, 317],\n",
       "        [210, 431, 121, 317],\n",
       "        [214, 431, 121, 316],\n",
       "        [218, 431, 121, 316],\n",
       "        [223, 431, 122, 316],\n",
       "        [227, 431, 122, 316],\n",
       "        [231, 431, 122, 316],\n",
       "        [234, 431, 123, 316],\n",
       "        [239, 432, 123, 315],\n",
       "        [243, 432, 124, 315],\n",
       "        [248, 432, 124, 315],\n",
       "        [252, 432, 124, 315],\n",
       "        [256, 432, 124, 315],\n",
       "        [260, 432, 124, 314],\n",
       "        [263, 432, 124, 314],\n",
       "        [267, 432, 124, 314],\n",
       "        [271, 432, 123, 314],\n",
       "        [275, 432, 123, 314],\n",
       "        [279, 432, 123, 314],\n",
       "        [284, 432, 123, 313],\n",
       "        [288, 432, 123, 313],\n",
       "        [292, 432, 123, 313],\n",
       "        [296, 433, 123, 313],\n",
       "        [300, 433, 123, 313],\n",
       "        [303, 433, 123, 312],\n",
       "        [307, 433, 123, 312],\n",
       "        [311, 433, 123, 312],\n",
       "        [316, 433, 123, 312],\n",
       "        [320, 433, 123, 312],\n",
       "        [324, 433, 122, 312],\n",
       "        [328, 433, 122, 312],\n",
       "        [332, 433, 122, 312],\n",
       "        [336, 433, 122, 312],\n",
       "        [339, 433, 122, 312],\n",
       "        [343, 432, 122, 311],\n",
       "        [347, 432, 122, 311],\n",
       "        [352, 432, 122, 311],\n",
       "        [356, 432, 122, 311],\n",
       "        [360, 434, 122, 311],\n",
       "        [364, 434, 122, 310],\n",
       "        [367, 434, 122, 310],\n",
       "        [371, 434, 122, 310],\n",
       "        [375, 434, 121, 310],\n",
       "        [379, 434, 121, 310],\n",
       "        [383, 433, 121, 309],\n",
       "        [387, 433, 121, 309],\n",
       "        [392, 433, 121, 309],\n",
       "        [396, 433, 121, 309],\n",
       "        [400, 433, 121, 309],\n",
       "        [404, 433, 121, 308],\n",
       "        [407, 433, 121, 308],\n",
       "        [411, 433, 121, 308],\n",
       "        [415, 433, 121, 308],\n",
       "        [419, 433, 121, 308],\n",
       "        [423, 435, 121, 308],\n",
       "        [427, 434, 120, 307],\n",
       "        [430, 434, 120, 307],\n",
       "        [434, 434, 120, 307],\n",
       "        [438, 434, 120, 307],\n",
       "        [442, 434, 120, 307],\n",
       "        [446, 434, 120, 305],\n",
       "        [450, 434, 120, 305]], dtype=uint64),)"
      ]
     },
     "execution_count": 148,
     "metadata": {},
     "output_type": "execute_result"
    }
   ],
   "source": [
    "(gt[:100][:],)"
   ]
  },
  {
   "cell_type": "code",
   "execution_count": 133,
   "metadata": {},
   "outputs": [],
   "source": [
    "from PIL import Image,ImageDraw"
   ]
  },
  {
   "cell_type": "code",
   "execution_count": 162,
   "metadata": {},
   "outputs": [],
   "source": [
    "def draw_bbox_on_blankimg(gt,prediction):\n",
    "    im = np.ones(shape=(1920,1080),dtype=np.uint8)\n",
    "    img1=im.T*255\n",
    "\n",
    "    for i in range(gt.shape[0]):\n",
    "        img = img1.copy()\n",
    "        #GT box\n",
    "        cv2.rectangle(img,(gt[i][0],gt[i][1]),(gt[i][0]+gt[i][2],gt[i][1]+gt[i][3]),(0,255,0),2)\n",
    "\n",
    "        #Prediction box\n",
    "        cv2.rectangle(img,(prediction[i][0],prediction[i][1]),(prediction[i][0]+prediction[i][2],prediction[i][1]+prediction[i][3]),(0,255,0),4)\n",
    "\n",
    "        cv2.imwrite('torch_codes/test_results/cam1obj150/'+str(i)+'.jpg',img)\n",
    "    print (' done')"
   ]
  },
  {
   "cell_type": "code",
   "execution_count": 163,
   "metadata": {},
   "outputs": [
    {
     "name": "stdout",
     "output_type": "stream",
     "text": [
      " done\n"
     ]
    }
   ],
   "source": [
    "draw_bbox_on_blankimg(gt,pred)"
   ]
  },
  {
   "cell_type": "code",
   "execution_count": 108,
   "metadata": {},
   "outputs": [],
   "source": [
    "a=cv2.imread('own_images/testing/video5/img/frame0000.jpg')"
   ]
  },
  {
   "cell_type": "code",
   "execution_count": 109,
   "metadata": {},
   "outputs": [
    {
     "data": {
      "text/plain": [
       "numpy.ndarray"
      ]
     },
     "execution_count": 109,
     "metadata": {},
     "output_type": "execute_result"
    }
   ],
   "source": [
    "type(a)"
   ]
  },
  {
   "cell_type": "code",
   "execution_count": null,
   "metadata": {},
   "outputs": [],
   "source": []
  }
 ],
 "metadata": {
  "kernelspec": {
   "display_name": "Python 3",
   "language": "python",
   "name": "python3"
  },
  "language_info": {
   "codemirror_mode": {
    "name": "ipython",
    "version": 3
   },
   "file_extension": ".py",
   "mimetype": "text/x-python",
   "name": "python",
   "nbconvert_exporter": "python",
   "pygments_lexer": "ipython3",
   "version": "3.5.2"
  }
 },
 "nbformat": 4,
 "nbformat_minor": 2
}
