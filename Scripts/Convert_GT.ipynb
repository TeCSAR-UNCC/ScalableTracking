{
 "cells": [
  {
   "cell_type": "code",
   "execution_count": 20,
   "metadata": {},
   "outputs": [],
   "source": [
    "import numpy as np\n",
    "import os"
   ]
  },
  {
   "cell_type": "code",
   "execution_count": 2,
   "metadata": {},
   "outputs": [],
   "source": [
    "bb = np.load('tc128/0_Training/Baby_ce/output/bbox_video.npy')\n",
    "feat = a = np.load('tc128/0_Training/Baby_ce/')"
   ]
  },
  {
   "cell_type": "code",
   "execution_count": 3,
   "metadata": {},
   "outputs": [
    {
     "data": {
      "text/plain": [
       "(296, 1, 4)"
      ]
     },
     "execution_count": 3,
     "metadata": {},
     "output_type": "execute_result"
    }
   ],
   "source": [
    "bb.shape"
   ]
  },
  {
   "cell_type": "code",
   "execution_count": 3,
   "metadata": {},
   "outputs": [
    {
     "data": {
      "text/plain": [
       "['Alladin',\n",
       " 'Baby_ce',\n",
       " 'Bicycle',\n",
       " 'Bike',\n",
       " 'David3',\n",
       " 'Drone2',\n",
       " 'Iceskater',\n",
       " 'Motorbike_ce',\n",
       " 'Walking',\n",
       " 'person-1',\n",
       " 'person-11',\n",
       " 'person-13',\n",
       " 'person-16',\n",
       " 'person-4',\n",
       " 'person-5',\n",
       " 'person-6',\n",
       " 'person-8']"
      ]
     },
     "execution_count": 3,
     "metadata": {},
     "output_type": "execute_result"
    }
   ],
   "source": [
    "listspecial = sorted(os.listdir('mixed_dataset/Training/'))\n",
    "listspecial"
   ]
  },
  {
   "cell_type": "code",
   "execution_count": 18,
   "metadata": {},
   "outputs": [
    {
     "name": "stdout",
     "output_type": "stream",
     "text": [
      "Drone1\n"
     ]
    }
   ],
   "source": [
    "cwd='tc128/0_Testing/'\n",
    "\n",
    "list2=os.listdir(cwd)\n",
    "for folder in sorted(list2):\n",
    "    newpath = cwd+folder+'/'+folder+'_gt.txt'\n",
    "    with open(newpath, 'r') as f:\n",
    "        arr = np.loadtxt(newpath,dtype='int',delimiter=',')\n",
    "        arr = np.reshape(arr,newshape=(arr.shape[0],1,arr.shape[1]))\n",
    "    np.save(cwd+'/'+folder+'/gt.npy',arr)\n",
    "    print folder"
   ]
  },
  {
   "cell_type": "code",
   "execution_count": 19,
   "metadata": {},
   "outputs": [
    {
     "name": "stdout",
     "output_type": "stream",
     "text": [
      "[566 306  95 229]\n",
      "(600, 1, 4) Drone1\n"
     ]
    }
   ],
   "source": [
    "for folder in sorted(list2):\n",
    "    newpath = cwd+folder+'/'+'gt.npy'\n",
    "    print(np.load(newpath).shape), folder"
   ]
  },
  {
   "cell_type": "code",
   "execution_count": null,
   "metadata": {},
   "outputs": [],
   "source": [
    "import ten"
   ]
  },
  {
   "cell_type": "code",
   "execution_count": null,
   "metadata": {},
   "outputs": [],
   "source": []
  },
  {
   "cell_type": "code",
   "execution_count": 44,
   "metadata": {},
   "outputs": [
    {
     "data": {
      "text/plain": [
       "(296, 1, 4)"
      ]
     },
     "execution_count": 44,
     "metadata": {},
     "output_type": "execute_result"
    }
   ],
   "source": [
    "arr1.shape"
   ]
  },
  {
   "cell_type": "code",
   "execution_count": null,
   "metadata": {},
   "outputs": [],
   "source": [
    "at = np.asarray(dtype=)"
   ]
  },
  {
   "cell_type": "code",
   "execution_count": null,
   "metadata": {},
   "outputs": [],
   "source": []
  }
 ],
 "metadata": {
  "kernelspec": {
   "display_name": "Python 2",
   "language": "python",
   "name": "python2"
  },
  "language_info": {
   "codemirror_mode": {
    "name": "ipython",
    "version": 2
   },
   "file_extension": ".py",
   "mimetype": "text/x-python",
   "name": "python",
   "nbconvert_exporter": "python",
   "pygments_lexer": "ipython2",
   "version": "2.7.12"
  }
 },
 "nbformat": 4,
 "nbformat_minor": 2
}
